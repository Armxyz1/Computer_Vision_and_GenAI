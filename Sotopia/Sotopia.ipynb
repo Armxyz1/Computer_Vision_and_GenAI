{
  "cells": [
    {
      "cell_type": "markdown",
      "metadata": {
        "id": "EIQMxzgqlRX7"
      },
      "source": [
        "<p align=\"center\"><img src=\"https://github.com/sotopia-lab/sotopia/blob/main/figs/title.png?raw=true\" alt=\"drawing\" width=\"100%\"/></p>"
      ]
    },
    {
      "cell_type": "markdown",
      "metadata": {
        "id": "bIf4OMHUz6ma"
      },
      "source": [
        "# Sotopia Tutorial Series\n",
        "\n",
        "<a href=\"https://colab.research.google.com/github/sotopia-lab/sotopia/blob/main/notebooks/tutorials/1.1-setup.ipynb\" target=\"_parent\"> <img src=\"https://colab.research.google.com/assets/colab-badge.svg\" alt=\"Open In Colab\"> </img> </a>\n",
        "\n",
        "The following is the first tutorial of this series to teach how to quickly build your socially intelligent agents on the sotopia platform.\n",
        "\n",
        "## Quick links\n",
        "\n",
        "1. Basics\n",
        "    \n",
        "    1.1 [Playing with Sotopia in a Google Colab Notebook](https://colab.research.google.com/drive/14hJOfzpA37PRUzdlFgiqVzUGIhhngqnz?usp=sharing)\n",
        "    \n",
        "    1.2 [Browsing sotopia data](https://colab.research.google.com/drive/1Gi2U3cA0KG1nekw1A0N0DZpx6gKrj8Nc?usp=sharing)\n",
        "\n",
        "2. Build your agents (coming soon!)\n",
        "3. Evaluate your agents (coming soon!)\n",
        "4. Extending Sotopia (coming soon!)\n",
        "\n",
        "Please contact [Hao Zhu](https://zhuhao.me) for any questions!"
      ]
    },
    {
      "cell_type": "markdown",
      "metadata": {
        "id": "Fe0-ncx5U8q7"
      },
      "source": [
        "# Guide on running Redis Stack for [Sotopia](https://sotopia.world)\n",
        "\n",
        "Author: [Hao Zhu](https://zhuhao.me)\n",
        "\n",
        "After the release of Sotopia package, I received feedback on the reliance of Sotopia on Redis, a KV database for maintaining profiles, interaction logs, error logs, and communication between the FastAPI server and agents. When hearing about database, people often think of a huge overhead. However, I want to show you in this tutorial that setting up Redis backend for Sotopia is actually extremely easy -- just run the following blocks."
      ]
    },
    {
      "cell_type": "markdown",
      "metadata": {
        "id": "DYRSxB4pWfDS"
      },
      "source": [
        "## Install Redis\n",
        "\n"
      ]
    },
    {
      "cell_type": "code",
      "execution_count": null,
      "metadata": {
        "cellView": "form",
        "id": "IJRC8SkzRteQ"
      },
      "outputs": [],
      "source": [
        "# @title The following block downloads Redis stack server 7.2.0, and libssl 1.1.\n",
        "%%capture\n",
        "!curl -fsSL https://packages.redis.io/redis-stack/redis-stack-server-7.2.0-v10.focal.x86_64.tar.gz -o redis-stack-server.tar.gz\n",
        "!tar -xvf redis-stack-server.tar.gz\n",
        "# Installs libssl1.1 for Ubuntu 22 source: https://stackoverflow.com/questions/72133316/libssl-so-1-1-cannot-open-shared-object-file-no-such-file-or-directory\n",
        "!wget http://nz2.archive.ubuntu.com/ubuntu/pool/main/o/openssl/libssl1.1_1.1.1f-1ubuntu2.22_amd64.deb\n",
        "!sudo dpkg -i libssl1.1_1.1.1f-1ubuntu2.22_amd64.deb\n",
        "%pip install redis"
      ]
    },
    {
      "cell_type": "code",
      "execution_count": null,
      "metadata": {
        "cellView": "form",
        "colab": {
          "base_uri": "https://localhost:8080/"
        },
        "id": "GlqtKYDmR2Ij",
        "outputId": "d6f59828-c582-4ff9-b013-e540bbdebdee"
      },
      "outputs": [
        {
          "name": "stdout",
          "output_type": "stream",
          "text": [
            "Starting redis-stack-server, database path ./redis-stack-server-7.2.0-v10/var/db/redis-stack\n"
          ]
        }
      ],
      "source": [
        "# @title Just one line of code to spin up your redis server:\n",
        "\n",
        "\n",
        "!./redis-stack-server-7.2.0-v10/bin/redis-stack-server --daemonize yes"
      ]
    },
    {
      "cell_type": "markdown",
      "metadata": {
        "id": "bIf7Nni3XEQk"
      },
      "source": [
        "If the above cell results in no error message, you have successfully set up your Redis server."
      ]
    },
    {
      "cell_type": "code",
      "execution_count": null,
      "metadata": {
        "cellView": "form",
        "colab": {
          "base_uri": "https://localhost:8080/"
        },
        "id": "gNgwAngBR7vC",
        "outputId": "1637d706-4b74-41a6-bf4b-11382c1f244c"
      },
      "outputs": [
        {
          "data": {
            "text/plain": [
              "b'Yes it works.'"
            ]
          },
          "execution_count": 3,
          "metadata": {},
          "output_type": "execute_result"
        }
      ],
      "source": [
        "# @title Try it out:\n",
        "\n",
        "import redis\n",
        "\n",
        "client = redis.Redis(host=\"localhost\", port=6379)\n",
        "client.ping()\n",
        "client.set(\"foo\", \"Yes it works.\")\n",
        "client.get(\"foo\")"
      ]
    },
    {
      "cell_type": "markdown",
      "metadata": {
        "id": "RISoihCJXdiL"
      },
      "source": [
        "## Run Sotopia with it"
      ]
    },
    {
      "cell_type": "markdown",
      "metadata": {
        "id": "o0-S_Ug2d4vB"
      },
      "source": [
        "To simulate an episode in Sotopia, there's one thing you will have to do: adding your `OPENAI_API_KEY` to the secret to left. Click on the little 🔑 shape button, and then toggle \"Notebook access\", input \"OPENAI_API_KEY\" under Name and the key string under Value.\n",
        "\n"
      ]
    },
    {
      "cell_type": "code",
      "execution_count": null,
      "metadata": {
        "id": "ne2r-KmxXpNS"
      },
      "outputs": [],
      "source": [
        "# @title Run the following cell to add it to the environment variable.\n",
        "%%capture\n",
        "%pip install sotopia\n",
        "import os\n",
        "from google.colab import userdata\n",
        "\n",
        "os.environ[\"REDIS_OM_URL\"] = \"redis://:@localhost:6379\"\n",
        "os.environ[\"OPENAI_API_KEY\"] = \"\""
      ]
    },
    {
      "cell_type": "code",
      "execution_count": null,
      "metadata": {
        "cellView": "form",
        "id": "X-3yiYuIcLVZ"
      },
      "outputs": [],
      "source": [
        "# @title Helper functions for adding characters and social tasks\n",
        "from sotopia.database.persistent_profile import AgentProfile, EnvironmentProfile\n",
        "from typing import Any\n",
        "\n",
        "\n",
        "def add_agent_to_database(**kwargs: dict[str, Any]) -> None:\n",
        "    agent = AgentProfile(**kwargs)\n",
        "    agent.save()\n",
        "\n",
        "\n",
        "def add_env_profile(**kwargs: dict[str, Any]) -> None:\n",
        "    env_profile = EnvironmentProfile(**kwargs)\n",
        "    env_profile.save()"
      ]
    },
    {
      "cell_type": "code",
      "execution_count": null,
      "metadata": {
        "cellView": "form",
        "id": "6nPHso_4Z9s-"
      },
      "outputs": [],
      "source": [
        "# @title Let's first add a character to the database. Only name is required when creating a new character\n",
        "\n",
        "\n",
        "first_name = \"Alice\"  # @param {type:\"string\"}\n",
        "last_name = \"Smith\"  # @param {type:\"string\"}\n",
        "age = 22  # @param {type:\"integer\"}\n",
        "occupation = \"Data Scientist\"  # @param {type:\"string\"}\n",
        "gender = \"Woman\"  # @param [\"Man\", \"Woman\", \"Nonbinary\"]\n",
        "gender_pronoun = \"she/her\"  # @param {type:\"string\"}\n",
        "big_five = \"extraversion, openness\"  # @param {type:\"string\"}\n",
        "moral_values = [\"power\", \"achievement\"]  # @param {type:\"string\"}\n",
        "decision_making_style = \"analytical\"  # @param {type:\"string\"}\n",
        "secret = \"She cheated in her code interview\"  # @param {type:\"string\"}\n",
        "\n",
        "add_agent_to_database(\n",
        "    first_name=first_name,\n",
        "    last_name=last_name,\n",
        "    age=age,\n",
        "    occupation=occupation,\n",
        "    gender=gender,\n",
        "    gender_pronoun=gender_pronoun,\n",
        "    big_five=big_five,\n",
        "    moral_values=moral_values,\n",
        "    decision_making_style=decision_making_style,\n",
        "    secret=secret,\n",
        ")"
      ]
    },
    {
      "cell_type": "code",
      "execution_count": null,
      "metadata": {
        "cellView": "form",
        "id": "jaVLJSMsdVSJ"
      },
      "outputs": [],
      "source": [
        "# @title Let's add another character\n",
        "\n",
        "\n",
        "first_name = \"Bob\"  # @param {type:\"string\"}\n",
        "last_name = \"Johnson\"  # @param {type:\"string\"}\n",
        "age = 30  # @param {type:\"integer\"}\n",
        "occupation = \"Chef\"  # @param {type:\"string\"}\n",
        "gender = \"Man\"  # @param [\"Man\", \"Woman\", \"Nonbinary\"]\n",
        "gender_pronoun = \"he/his\"  # @param {type:\"string\"}\n",
        "big_five = \"openness, conscientiousness\"  # @param {type:\"string\"}\n",
        "moral_values = [\"Benevolence\"]  # @param {type:\"string\"}\n",
        "decision_making_style = \"conceptual\"  # @param {type:\"string\"}\n",
        "secret = \"He has a negative net worth.\"  # @param {type:\"string\"}\n",
        "\n",
        "add_agent_to_database(\n",
        "    first_name=first_name,\n",
        "    last_name=last_name,\n",
        "    age=age,\n",
        "    occupation=occupation,\n",
        "    gender=gender,\n",
        "    gender_pronoun=gender_pronoun,\n",
        "    big_five=big_five,\n",
        "    moral_values=moral_values,\n",
        "    decision_making_style=decision_making_style,\n",
        "    secret=secret,\n",
        ")"
      ]
    },
    {
      "cell_type": "code",
      "execution_count": null,
      "metadata": {
        "cellView": "form",
        "id": "gE4iBfHjfZxM"
      },
      "outputs": [],
      "source": [
        "# @title Let's add a social tasks\n",
        "\n",
        "scenario = 'A friend is raising a fund for the \"Help the children\" charity'  # @param {type:\"string\"}\n",
        "social_goal_1 = \"Ask for donation of $100\"  # @param {type:\"string\"}\n",
        "social_goal_2 = \"Donate less than $10\"  # @param {type:\"string\"}\n",
        "\n",
        "add_env_profile(scenario=scenario, agent_goals=[social_goal_1, social_goal_2])"
      ]
    },
    {
      "cell_type": "code",
      "execution_count": null,
      "metadata": {
        "colab": {
          "base_uri": "https://localhost:8080/",
          "height": 1000
        },
        "id": "TcYo311NdJNb",
        "outputId": "addf0835-c33d-45f4-9b27-becaba645bd2"
      },
      "outputs": [
        {
          "name": "stderr",
          "output_type": "stream",
          "text": [
            "/usr/local/lib/python3.10/dist-packages/beartype/_util/hint/pep/utilpeptest.py:339: BeartypeDecorHintPep585DeprecationWarning: PEP 484 type hint typing.Sequence[sotopia.agents.base_agent.BaseAgent[sotopia.messages.message_classes.Observation, sotopia.messages.message_classes.AgentAction]] deprecated by PEP 585. This hint is scheduled for removal in the first Python version released after October 5th, 2025. To resolve this, import this hint from \"beartype.typing\" rather than \"typing\". For further commentary and alternatives, see also:\n",
            "    https://beartype.readthedocs.io/en/latest/api_roar/#pep-585-deprecations\n",
            "  warn(\n",
            "Running one batch:   0%|          | 0/1 [00:00<?, ?it/s]"
          ]
        },
        {
          "name": "stdout",
          "output_type": "stream",
          "text": [
            "Is the agent omniscient? False\n",
            "\n",
            "\u001b[1;31mGive Feedback / Get Help: https://github.com/BerriAI/litellm/issues/new\u001b[0m\n",
            "LiteLLM.Info: If you need to debug this error, use `litellm.set_verbose=True'.\n",
            "\n"
          ]
        },
        {
          "data": {
            "text/html": [
              "<pre style=\"white-space:pre;overflow-x:auto;line-height:normal;font-family:Menlo,'DejaVu Sans Mono',consolas,'Courier New',monospace\">\n",
              "</pre>\n"
            ],
            "text/plain": [
              "\n"
            ]
          },
          "metadata": {},
          "output_type": "display_data"
        },
        {
          "data": {
            "text/html": [
              "<pre style=\"white-space:pre;overflow-x:auto;line-height:normal;font-family:Menlo,'DejaVu Sans Mono',consolas,'Courier New',monospace\"><span style=\"color: #800080; text-decoration-color: #800080; font-weight: bold\">AgentProfile</span><span style=\"font-weight: bold\">(</span>\n",
              "    <span style=\"color: #808000; text-decoration-color: #808000\">pk</span>=<span style=\"color: #008000; text-decoration-color: #008000\">'01J05GYPQX5AZ1QNEFS3V3BTEF'</span>,\n",
              "    <span style=\"color: #808000; text-decoration-color: #808000\">first_name</span>=<span style=\"color: #008000; text-decoration-color: #008000\">'Bob'</span>,\n",
              "    <span style=\"color: #808000; text-decoration-color: #808000\">last_name</span>=<span style=\"color: #008000; text-decoration-color: #008000\">'Johnson'</span>,\n",
              "    <span style=\"color: #808000; text-decoration-color: #808000\">age</span>=<span style=\"color: #008080; text-decoration-color: #008080; font-weight: bold\">30</span>,\n",
              "    <span style=\"color: #808000; text-decoration-color: #808000\">occupation</span>=<span style=\"color: #008000; text-decoration-color: #008000\">'Chef'</span>,\n",
              "    <span style=\"color: #808000; text-decoration-color: #808000\">gender</span>=<span style=\"color: #008000; text-decoration-color: #008000\">'Man'</span>,\n",
              "    <span style=\"color: #808000; text-decoration-color: #808000\">gender_pronoun</span>=<span style=\"color: #008000; text-decoration-color: #008000\">'he/his'</span>,\n",
              "    <span style=\"color: #808000; text-decoration-color: #808000\">public_info</span>=<span style=\"color: #008000; text-decoration-color: #008000\">''</span>,\n",
              "    <span style=\"color: #808000; text-decoration-color: #808000\">big_five</span>=<span style=\"color: #008000; text-decoration-color: #008000\">'openness, conscientiousness'</span>,\n",
              "    <span style=\"color: #808000; text-decoration-color: #808000\">moral_values</span>=<span style=\"font-weight: bold\">[</span><span style=\"color: #008000; text-decoration-color: #008000\">'Benevolence'</span><span style=\"font-weight: bold\">]</span>,\n",
              "    <span style=\"color: #808000; text-decoration-color: #808000\">schwartz_personal_values</span>=<span style=\"font-weight: bold\">[]</span>,\n",
              "    <span style=\"color: #808000; text-decoration-color: #808000\">personality_and_values</span>=<span style=\"color: #008000; text-decoration-color: #008000\">''</span>,\n",
              "    <span style=\"color: #808000; text-decoration-color: #808000\">decision_making_style</span>=<span style=\"color: #008000; text-decoration-color: #008000\">'conceptual'</span>,\n",
              "    <span style=\"color: #808000; text-decoration-color: #808000\">secret</span>=<span style=\"color: #008000; text-decoration-color: #008000\">'He has a negative net worth.'</span>,\n",
              "    <span style=\"color: #808000; text-decoration-color: #808000\">model_id</span>=<span style=\"color: #008000; text-decoration-color: #008000\">''</span>,\n",
              "    <span style=\"color: #808000; text-decoration-color: #808000\">mbti</span>=<span style=\"color: #008000; text-decoration-color: #008000\">''</span>\n",
              "<span style=\"font-weight: bold\">)</span>\n",
              "</pre>\n"
            ],
            "text/plain": [
              "\u001b[1;35mAgentProfile\u001b[0m\u001b[1m(\u001b[0m\n",
              "    \u001b[33mpk\u001b[0m=\u001b[32m'01J05GYPQX5AZ1QNEFS3V3BTEF'\u001b[0m,\n",
              "    \u001b[33mfirst_name\u001b[0m=\u001b[32m'Bob'\u001b[0m,\n",
              "    \u001b[33mlast_name\u001b[0m=\u001b[32m'Johnson'\u001b[0m,\n",
              "    \u001b[33mage\u001b[0m=\u001b[1;36m30\u001b[0m,\n",
              "    \u001b[33moccupation\u001b[0m=\u001b[32m'Chef'\u001b[0m,\n",
              "    \u001b[33mgender\u001b[0m=\u001b[32m'Man'\u001b[0m,\n",
              "    \u001b[33mgender_pronoun\u001b[0m=\u001b[32m'he/his'\u001b[0m,\n",
              "    \u001b[33mpublic_info\u001b[0m=\u001b[32m''\u001b[0m,\n",
              "    \u001b[33mbig_five\u001b[0m=\u001b[32m'openness, conscientiousness'\u001b[0m,\n",
              "    \u001b[33mmoral_values\u001b[0m=\u001b[1m[\u001b[0m\u001b[32m'Benevolence'\u001b[0m\u001b[1m]\u001b[0m,\n",
              "    \u001b[33mschwartz_personal_values\u001b[0m=\u001b[1m[\u001b[0m\u001b[1m]\u001b[0m,\n",
              "    \u001b[33mpersonality_and_values\u001b[0m=\u001b[32m''\u001b[0m,\n",
              "    \u001b[33mdecision_making_style\u001b[0m=\u001b[32m'conceptual'\u001b[0m,\n",
              "    \u001b[33msecret\u001b[0m=\u001b[32m'He has a negative net worth.'\u001b[0m,\n",
              "    \u001b[33mmodel_id\u001b[0m=\u001b[32m''\u001b[0m,\n",
              "    \u001b[33mmbti\u001b[0m=\u001b[32m''\u001b[0m\n",
              "\u001b[1m)\u001b[0m\n"
            ]
          },
          "metadata": {},
          "output_type": "display_data"
        },
        {
          "data": {
            "text/html": [
              "<pre style=\"white-space:pre;overflow-x:auto;line-height:normal;font-family:Menlo,'DejaVu Sans Mono',consolas,'Courier New',monospace\"><span style=\"color: #800080; text-decoration-color: #800080; font-weight: bold\">AgentProfile</span><span style=\"font-weight: bold\">(</span>\n",
              "    <span style=\"color: #808000; text-decoration-color: #808000\">pk</span>=<span style=\"color: #008000; text-decoration-color: #008000\">'01J05GYPQNBPB86CEMQTXZ885J'</span>,\n",
              "    <span style=\"color: #808000; text-decoration-color: #808000\">first_name</span>=<span style=\"color: #008000; text-decoration-color: #008000\">'Alice'</span>,\n",
              "    <span style=\"color: #808000; text-decoration-color: #808000\">last_name</span>=<span style=\"color: #008000; text-decoration-color: #008000\">'Smith'</span>,\n",
              "    <span style=\"color: #808000; text-decoration-color: #808000\">age</span>=<span style=\"color: #008080; text-decoration-color: #008080; font-weight: bold\">22</span>,\n",
              "    <span style=\"color: #808000; text-decoration-color: #808000\">occupation</span>=<span style=\"color: #008000; text-decoration-color: #008000\">'Data Scientist'</span>,\n",
              "    <span style=\"color: #808000; text-decoration-color: #808000\">gender</span>=<span style=\"color: #008000; text-decoration-color: #008000\">'Woman'</span>,\n",
              "    <span style=\"color: #808000; text-decoration-color: #808000\">gender_pronoun</span>=<span style=\"color: #008000; text-decoration-color: #008000\">'she/her'</span>,\n",
              "    <span style=\"color: #808000; text-decoration-color: #808000\">public_info</span>=<span style=\"color: #008000; text-decoration-color: #008000\">''</span>,\n",
              "    <span style=\"color: #808000; text-decoration-color: #808000\">big_five</span>=<span style=\"color: #008000; text-decoration-color: #008000\">'extraversion, openness'</span>,\n",
              "    <span style=\"color: #808000; text-decoration-color: #808000\">moral_values</span>=<span style=\"font-weight: bold\">[</span><span style=\"color: #008000; text-decoration-color: #008000\">'power'</span>, <span style=\"color: #008000; text-decoration-color: #008000\">'achievement'</span><span style=\"font-weight: bold\">]</span>,\n",
              "    <span style=\"color: #808000; text-decoration-color: #808000\">schwartz_personal_values</span>=<span style=\"font-weight: bold\">[]</span>,\n",
              "    <span style=\"color: #808000; text-decoration-color: #808000\">personality_and_values</span>=<span style=\"color: #008000; text-decoration-color: #008000\">''</span>,\n",
              "    <span style=\"color: #808000; text-decoration-color: #808000\">decision_making_style</span>=<span style=\"color: #008000; text-decoration-color: #008000\">'analytical'</span>,\n",
              "    <span style=\"color: #808000; text-decoration-color: #808000\">secret</span>=<span style=\"color: #008000; text-decoration-color: #008000\">'She cheated in her code interview'</span>,\n",
              "    <span style=\"color: #808000; text-decoration-color: #808000\">model_id</span>=<span style=\"color: #008000; text-decoration-color: #008000\">''</span>,\n",
              "    <span style=\"color: #808000; text-decoration-color: #808000\">mbti</span>=<span style=\"color: #008000; text-decoration-color: #008000\">''</span>\n",
              "<span style=\"font-weight: bold\">)</span>\n",
              "</pre>\n"
            ],
            "text/plain": [
              "\u001b[1;35mAgentProfile\u001b[0m\u001b[1m(\u001b[0m\n",
              "    \u001b[33mpk\u001b[0m=\u001b[32m'01J05GYPQNBPB86CEMQTXZ885J'\u001b[0m,\n",
              "    \u001b[33mfirst_name\u001b[0m=\u001b[32m'Alice'\u001b[0m,\n",
              "    \u001b[33mlast_name\u001b[0m=\u001b[32m'Smith'\u001b[0m,\n",
              "    \u001b[33mage\u001b[0m=\u001b[1;36m22\u001b[0m,\n",
              "    \u001b[33moccupation\u001b[0m=\u001b[32m'Data Scientist'\u001b[0m,\n",
              "    \u001b[33mgender\u001b[0m=\u001b[32m'Woman'\u001b[0m,\n",
              "    \u001b[33mgender_pronoun\u001b[0m=\u001b[32m'she/her'\u001b[0m,\n",
              "    \u001b[33mpublic_info\u001b[0m=\u001b[32m''\u001b[0m,\n",
              "    \u001b[33mbig_five\u001b[0m=\u001b[32m'extraversion, openness'\u001b[0m,\n",
              "    \u001b[33mmoral_values\u001b[0m=\u001b[1m[\u001b[0m\u001b[32m'power'\u001b[0m, \u001b[32m'achievement'\u001b[0m\u001b[1m]\u001b[0m,\n",
              "    \u001b[33mschwartz_personal_values\u001b[0m=\u001b[1m[\u001b[0m\u001b[1m]\u001b[0m,\n",
              "    \u001b[33mpersonality_and_values\u001b[0m=\u001b[32m''\u001b[0m,\n",
              "    \u001b[33mdecision_making_style\u001b[0m=\u001b[32m'analytical'\u001b[0m,\n",
              "    \u001b[33msecret\u001b[0m=\u001b[32m'She cheated in her code interview'\u001b[0m,\n",
              "    \u001b[33mmodel_id\u001b[0m=\u001b[32m''\u001b[0m,\n",
              "    \u001b[33mmbti\u001b[0m=\u001b[32m''\u001b[0m\n",
              "\u001b[1m)\u001b[0m\n"
            ]
          },
          "metadata": {},
          "output_type": "display_data"
        },
        {
          "data": {
            "text/html": [
              "<pre style=\"white-space:pre;overflow-x:auto;line-height:normal;font-family:Menlo,'DejaVu Sans Mono',consolas,'Courier New',monospace\">\n",
              "Here is the context of this interaction:\n",
              "Scenario: A friend is raising a fund for the <span style=\"color: #008000; text-decoration-color: #008000\">\"Help the children\"</span> charity\n",
              "Participants: Bob Johnson and Alice Smith\n",
              "Bob Johnson's background: Bob Johnson is a <span style=\"color: #008080; text-decoration-color: #008080; font-weight: bold\">30</span>-year-old male chef. he/his pronouns.  Personality and values \n",
              "description:  Bob's secrets: He has a negative net worth.\n",
              "Alice Smith's background: Unknown\n",
              "Bob Johnson's goal: Ask for donation of $<span style=\"color: #008080; text-decoration-color: #008080; font-weight: bold\">100</span>\n",
              "Alice Smith's goal: Unknown\n",
              "Conversation Starts:\n",
              "\n",
              "\n",
              "Here is the context of this interaction:\n",
              "Scenario: A friend is raising a fund for the <span style=\"color: #008000; text-decoration-color: #008000\">\"Help the children\"</span> charity\n",
              "Participants: Bob Johnson and Alice Smith\n",
              "Bob Johnson's background: Unknown\n",
              "Alice Smith's background: Alice Smith is a <span style=\"color: #008080; text-decoration-color: #008080; font-weight: bold\">22</span>-year-old female data scientist. she/her pronouns.  Personality and \n",
              "values description:  Alice's secrets: She cheated in her code interview\n",
              "Bob Johnson's goal: Unknown\n",
              "Alice Smith's goal: Donate less than $<span style=\"color: #008080; text-decoration-color: #008080; font-weight: bold\">10</span>\n",
              "Conversation Starts:\n",
              "\n",
              "Bob Johnson said: <span style=\"color: #008000; text-decoration-color: #008000\">\"Hey Alice, how are you doing today?\"</span>\n",
              "</pre>\n"
            ],
            "text/plain": [
              "\n",
              "Here is the context of this interaction:\n",
              "Scenario: A friend is raising a fund for the \u001b[32m\"Help the children\"\u001b[0m charity\n",
              "Participants: Bob Johnson and Alice Smith\n",
              "Bob Johnson's background: Bob Johnson is a \u001b[1;36m30\u001b[0m-year-old male chef. he/his pronouns.  Personality and values \n",
              "description:  Bob's secrets: He has a negative net worth.\n",
              "Alice Smith's background: Unknown\n",
              "Bob Johnson's goal: Ask for donation of $\u001b[1;36m100\u001b[0m\n",
              "Alice Smith's goal: Unknown\n",
              "Conversation Starts:\n",
              "\n",
              "\n",
              "Here is the context of this interaction:\n",
              "Scenario: A friend is raising a fund for the \u001b[32m\"Help the children\"\u001b[0m charity\n",
              "Participants: Bob Johnson and Alice Smith\n",
              "Bob Johnson's background: Unknown\n",
              "Alice Smith's background: Alice Smith is a \u001b[1;36m22\u001b[0m-year-old female data scientist. she/her pronouns.  Personality and \n",
              "values description:  Alice's secrets: She cheated in her code interview\n",
              "Bob Johnson's goal: Unknown\n",
              "Alice Smith's goal: Donate less than $\u001b[1;36m10\u001b[0m\n",
              "Conversation Starts:\n",
              "\n",
              "Bob Johnson said: \u001b[32m\"Hey Alice, how are you doing today?\"\u001b[0m\n"
            ]
          },
          "metadata": {},
          "output_type": "display_data"
        },
        {
          "data": {
            "text/html": [
              "<pre style=\"white-space:pre;overflow-x:auto;line-height:normal;font-family:Menlo,'DejaVu Sans Mono',consolas,'Courier New',monospace\">Alice Smith said: <span style=\"color: #008000; text-decoration-color: #008000\">\"Hey Bob! I'm doing well, thanks for asking. How about you?\"</span>\n",
              "</pre>\n"
            ],
            "text/plain": [
              "Alice Smith said: \u001b[32m\"Hey Bob! I'm doing well, thanks for asking. How about you?\"\u001b[0m\n"
            ]
          },
          "metadata": {},
          "output_type": "display_data"
        },
        {
          "data": {
            "text/html": [
              "<pre style=\"white-space:pre;overflow-x:auto;line-height:normal;font-family:Menlo,'DejaVu Sans Mono',consolas,'Courier New',monospace\">Bob Johnson said: <span style=\"color: #008000; text-decoration-color: #008000\">\"I'm doing okay, thanks for asking. Hey, I wanted to talk to you about something important. Have </span>\n",
              "<span style=\"color: #008000; text-decoration-color: #008000\">you heard about the 'Help the children' charity?\"</span>\n",
              "</pre>\n"
            ],
            "text/plain": [
              "Bob Johnson said: \u001b[32m\"I'm doing okay, thanks for asking. Hey, I wanted to talk to you about something important. Have \u001b[0m\n",
              "\u001b[32myou heard about the 'Help the children' charity?\"\u001b[0m\n"
            ]
          },
          "metadata": {},
          "output_type": "display_data"
        },
        {
          "data": {
            "text/html": [
              "<pre style=\"white-space:pre;overflow-x:auto;line-height:normal;font-family:Menlo,'DejaVu Sans Mono',consolas,'Courier New',monospace\">Alice Smith said: <span style=\"color: #008000; text-decoration-color: #008000\">\"Yeah, I've heard about it. What's up?\"</span>\n",
              "</pre>\n"
            ],
            "text/plain": [
              "Alice Smith said: \u001b[32m\"Yeah, I've heard about it. What's up?\"\u001b[0m\n"
            ]
          },
          "metadata": {},
          "output_type": "display_data"
        },
        {
          "data": {
            "text/html": [
              "<pre style=\"white-space:pre;overflow-x:auto;line-height:normal;font-family:Menlo,'DejaVu Sans Mono',consolas,'Courier New',monospace\">Bob Johnson said: <span style=\"color: #008000; text-decoration-color: #008000\">\"I wanted to let you know that I'm currently involved in a fundraising campaign for the 'Help the</span>\n",
              "<span style=\"color: #008000; text-decoration-color: #008000\">children' charity. It's a cause that I'm really passionate about, and I'm reaching out to friends and family to ask</span>\n",
              "<span style=\"color: #008000; text-decoration-color: #008000\">for their support. Would you be interested in making a donation of $100? Every contribution makes a difference in </span>\n",
              "<span style=\"color: #008000; text-decoration-color: #008000\">the lives of these children.\"</span>\n",
              "</pre>\n"
            ],
            "text/plain": [
              "Bob Johnson said: \u001b[32m\"I wanted to let you know that I'm currently involved in a fundraising campaign for the 'Help the\u001b[0m\n",
              "\u001b[32mchildren' charity. It's a cause that I'm really passionate about, and I'm reaching out to friends and family to ask\u001b[0m\n",
              "\u001b[32mfor their support. Would you be interested in making a donation of $100? Every contribution makes a difference in \u001b[0m\n",
              "\u001b[32mthe lives of these children.\"\u001b[0m\n"
            ]
          },
          "metadata": {},
          "output_type": "display_data"
        },
        {
          "data": {
            "text/html": [
              "<pre style=\"white-space:pre;overflow-x:auto;line-height:normal;font-family:Menlo,'DejaVu Sans Mono',consolas,'Courier New',monospace\">Alice Smith said: <span style=\"color: #008000; text-decoration-color: #008000\">\"I think it's great that you're involved in the fundraising campaign for the 'Help the children' </span>\n",
              "<span style=\"color: #008000; text-decoration-color: #008000\">charity. However, I have some financial constraints at the moment, so I won't be able to donate $100. Is there any </span>\n",
              "<span style=\"color: #008000; text-decoration-color: #008000\">other way I can support the cause?\"</span>\n",
              "</pre>\n"
            ],
            "text/plain": [
              "Alice Smith said: \u001b[32m\"I think it's great that you're involved in the fundraising campaign for the 'Help the children' \u001b[0m\n",
              "\u001b[32mcharity. However, I have some financial constraints at the moment, so I won't be able to donate $100. Is there any \u001b[0m\n",
              "\u001b[32mother way I can support the cause?\"\u001b[0m\n"
            ]
          },
          "metadata": {},
          "output_type": "display_data"
        },
        {
          "data": {
            "text/html": [
              "<pre style=\"white-space:pre;overflow-x:auto;line-height:normal;font-family:Menlo,'DejaVu Sans Mono',consolas,'Courier New',monospace\">Bob Johnson said: <span style=\"color: #008000; text-decoration-color: #008000\">\"That's completely understandable, Alice. I appreciate your honesty. There are actually other </span>\n",
              "<span style=\"color: #008000; text-decoration-color: #008000\">ways you can support the cause. You can help spread the word about the fundraising campaign on your social media </span>\n",
              "<span style=\"color: #008000; text-decoration-color: #008000\">platforms or even volunteer your time at one of their events. Any support, big or small, is valuable and greatly </span>\n",
              "<span style=\"color: #008000; text-decoration-color: #008000\">appreciated.\"</span>\n",
              "</pre>\n"
            ],
            "text/plain": [
              "Bob Johnson said: \u001b[32m\"That's completely understandable, Alice. I appreciate your honesty. There are actually other \u001b[0m\n",
              "\u001b[32mways you can support the cause. You can help spread the word about the fundraising campaign on your social media \u001b[0m\n",
              "\u001b[32mplatforms or even volunteer your time at one of their events. Any support, big or small, is valuable and greatly \u001b[0m\n",
              "\u001b[32mappreciated.\"\u001b[0m\n"
            ]
          },
          "metadata": {},
          "output_type": "display_data"
        },
        {
          "data": {
            "text/html": [
              "<pre style=\"white-space:pre;overflow-x:auto;line-height:normal;font-family:Menlo,'DejaVu Sans Mono',consolas,'Courier New',monospace\">\n",
              "</pre>\n"
            ],
            "text/plain": [
              "\n"
            ]
          },
          "metadata": {},
          "output_type": "display_data"
        },
        {
          "data": {
            "text/html": [
              "<pre style=\"white-space:pre;overflow-x:auto;line-height:normal;font-family:Menlo,'DejaVu Sans Mono',consolas,'Courier New',monospace\">\n",
              "</pre>\n"
            ],
            "text/plain": [
              "\n"
            ]
          },
          "metadata": {},
          "output_type": "display_data"
        },
        {
          "data": {
            "text/html": [
              "<pre style=\"white-space:pre;overflow-x:auto;line-height:normal;font-family:Menlo,'DejaVu Sans Mono',consolas,'Courier New',monospace\">The reasoning is:\n",
              "Environment comments: terminated: The conversation stales for too long; \n",
              "\n",
              "</pre>\n"
            ],
            "text/plain": [
              "The reasoning is:\n",
              "Environment comments: terminated: The conversation stales for too long; \n",
              "\n"
            ]
          },
          "metadata": {},
          "output_type": "display_data"
        },
        {
          "data": {
            "text/html": [
              "<pre style=\"white-space:pre;overflow-x:auto;line-height:normal;font-family:Menlo,'DejaVu Sans Mono',consolas,'Courier New',monospace\">The rewards are:\n",
              "Agent <span style=\"color: #008080; text-decoration-color: #008080; font-weight: bold\">1</span>: <span style=\"color: #008080; text-decoration-color: #008080; font-weight: bold\">0.0</span>\n",
              "Agent <span style=\"color: #008080; text-decoration-color: #008080; font-weight: bold\">2</span>: <span style=\"color: #008080; text-decoration-color: #008080; font-weight: bold\">0.0</span>\n",
              "</pre>\n"
            ],
            "text/plain": [
              "The rewards are:\n",
              "Agent \u001b[1;36m1\u001b[0m: \u001b[1;36m0.0\u001b[0m\n",
              "Agent \u001b[1;36m2\u001b[0m: \u001b[1;36m0.0\u001b[0m\n"
            ]
          },
          "metadata": {},
          "output_type": "display_data"
        },
        {
          "name": "stderr",
          "output_type": "stream",
          "text": [
            "Running one batch: 100%|██████████| 1/1 [00:14<00:00, 14.88s/it]\n"
          ]
        },
        {
          "data": {
            "text/plain": [
              "[[('Environment',\n",
              "   'Bob Johnson',\n",
              "   Observation(last_turn='Here is the context of this interaction:\\nScenario: A friend is raising a fund for the \"Help the children\" charity\\nParticipants: Bob Johnson and Alice Smith\\nBob Johnson\\'s background: Bob Johnson is a 30-year-old male chef. he/his pronouns.  Personality and values description:  Bob\\'s secrets: He has a negative net worth.\\nAlice Smith\\'s background: Unknown\\nBob Johnson\\'s goal: Ask for donation of $100\\nAlice Smith\\'s goal: Unknown', turn_number=0, available_actions=['leave', 'none', 'action', 'speak', 'non-verbal communication'])),\n",
              "  ('Environment',\n",
              "   'Alice Smith',\n",
              "   Observation(last_turn='Here is the context of this interaction:\\nScenario: A friend is raising a fund for the \"Help the children\" charity\\nParticipants: Bob Johnson and Alice Smith\\nBob Johnson\\'s background: Unknown\\nAlice Smith\\'s background: Alice Smith is a 22-year-old female data scientist. she/her pronouns.  Personality and values description:  Alice\\'s secrets: She cheated in her code interview\\nBob Johnson\\'s goal: Unknown\\nAlice Smith\\'s goal: Donate less than $10', turn_number=0, available_actions=['none'])),\n",
              "  ('Bob Johnson',\n",
              "   'Environment',\n",
              "   AgentAction(action_type='speak', argument='Hey Alice, how are you doing today?')),\n",
              "  ('Alice Smith', 'Environment', AgentAction(action_type='none', argument='')),\n",
              "  ('Environment',\n",
              "   'Bob Johnson',\n",
              "   Observation(last_turn='Bob Johnson said: \"Hey Alice, how are you doing today?\"', turn_number=1, available_actions=['none'])),\n",
              "  ('Environment',\n",
              "   'Alice Smith',\n",
              "   Observation(last_turn='Bob Johnson said: \"Hey Alice, how are you doing today?\"', turn_number=1, available_actions=['leave', 'none', 'action', 'speak', 'non-verbal communication'])),\n",
              "  ('Bob Johnson', 'Environment', AgentAction(action_type='none', argument='')),\n",
              "  ('Alice Smith',\n",
              "   'Environment',\n",
              "   AgentAction(action_type='speak', argument=\"Hey Bob! I'm doing well, thanks for asking. How about you?\")),\n",
              "  ('Environment',\n",
              "   'Bob Johnson',\n",
              "   Observation(last_turn='Alice Smith said: \"Hey Bob! I\\'m doing well, thanks for asking. How about you?\"', turn_number=2, available_actions=['leave', 'none', 'action', 'speak', 'non-verbal communication'])),\n",
              "  ('Environment',\n",
              "   'Alice Smith',\n",
              "   Observation(last_turn='Alice Smith said: \"Hey Bob! I\\'m doing well, thanks for asking. How about you?\"', turn_number=2, available_actions=['none'])),\n",
              "  ('Bob Johnson',\n",
              "   'Environment',\n",
              "   AgentAction(action_type='speak', argument=\"I'm doing okay, thanks for asking. Hey, I wanted to talk to you about something important. Have you heard about the 'Help the children' charity?\")),\n",
              "  ('Alice Smith', 'Environment', AgentAction(action_type='none', argument='')),\n",
              "  ('Environment',\n",
              "   'Bob Johnson',\n",
              "   Observation(last_turn='Bob Johnson said: \"I\\'m doing okay, thanks for asking. Hey, I wanted to talk to you about something important. Have you heard about the \\'Help the children\\' charity?\"', turn_number=3, available_actions=['none'])),\n",
              "  ('Environment',\n",
              "   'Alice Smith',\n",
              "   Observation(last_turn='Bob Johnson said: \"I\\'m doing okay, thanks for asking. Hey, I wanted to talk to you about something important. Have you heard about the \\'Help the children\\' charity?\"', turn_number=3, available_actions=['leave', 'none', 'action', 'speak', 'non-verbal communication'])),\n",
              "  ('Bob Johnson', 'Environment', AgentAction(action_type='none', argument='')),\n",
              "  ('Alice Smith',\n",
              "   'Environment',\n",
              "   AgentAction(action_type='speak', argument=\"Yeah, I've heard about it. What's up?\")),\n",
              "  ('Environment',\n",
              "   'Bob Johnson',\n",
              "   Observation(last_turn='Alice Smith said: \"Yeah, I\\'ve heard about it. What\\'s up?\"', turn_number=4, available_actions=['leave', 'none', 'action', 'speak', 'non-verbal communication'])),\n",
              "  ('Environment',\n",
              "   'Alice Smith',\n",
              "   Observation(last_turn='Alice Smith said: \"Yeah, I\\'ve heard about it. What\\'s up?\"', turn_number=4, available_actions=['none'])),\n",
              "  ('Bob Johnson',\n",
              "   'Environment',\n",
              "   AgentAction(action_type='speak', argument=\"I wanted to let you know that I'm currently involved in a fundraising campaign for the 'Help the children' charity. It's a cause that I'm really passionate about, and I'm reaching out to friends and family to ask for their support. Would you be interested in making a donation of $100? Every contribution makes a difference in the lives of these children.\")),\n",
              "  ('Alice Smith', 'Environment', AgentAction(action_type='none', argument='')),\n",
              "  ('Environment',\n",
              "   'Bob Johnson',\n",
              "   Observation(last_turn='Bob Johnson said: \"I wanted to let you know that I\\'m currently involved in a fundraising campaign for the \\'Help the children\\' charity. It\\'s a cause that I\\'m really passionate about, and I\\'m reaching out to friends and family to ask for their support. Would you be interested in making a donation of $100? Every contribution makes a difference in the lives of these children.\"', turn_number=5, available_actions=['none'])),\n",
              "  ('Environment',\n",
              "   'Alice Smith',\n",
              "   Observation(last_turn='Bob Johnson said: \"I wanted to let you know that I\\'m currently involved in a fundraising campaign for the \\'Help the children\\' charity. It\\'s a cause that I\\'m really passionate about, and I\\'m reaching out to friends and family to ask for their support. Would you be interested in making a donation of $100? Every contribution makes a difference in the lives of these children.\"', turn_number=5, available_actions=['leave', 'none', 'action', 'speak', 'non-verbal communication'])),\n",
              "  ('Bob Johnson', 'Environment', AgentAction(action_type='none', argument='')),\n",
              "  ('Alice Smith',\n",
              "   'Environment',\n",
              "   AgentAction(action_type='speak', argument=\"I think it's great that you're involved in the fundraising campaign for the 'Help the children' charity. However, I have some financial constraints at the moment, so I won't be able to donate $100. Is there any other way I can support the cause?\")),\n",
              "  ('Environment',\n",
              "   'Bob Johnson',\n",
              "   Observation(last_turn='Alice Smith said: \"I think it\\'s great that you\\'re involved in the fundraising campaign for the \\'Help the children\\' charity. However, I have some financial constraints at the moment, so I won\\'t be able to donate $100. Is there any other way I can support the cause?\"', turn_number=6, available_actions=['leave', 'none', 'action', 'speak', 'non-verbal communication'])),\n",
              "  ('Environment',\n",
              "   'Alice Smith',\n",
              "   Observation(last_turn='Alice Smith said: \"I think it\\'s great that you\\'re involved in the fundraising campaign for the \\'Help the children\\' charity. However, I have some financial constraints at the moment, so I won\\'t be able to donate $100. Is there any other way I can support the cause?\"', turn_number=6, available_actions=['none'])),\n",
              "  ('Bob Johnson',\n",
              "   'Environment',\n",
              "   AgentAction(action_type='speak', argument=\"That's completely understandable, Alice. I appreciate your honesty. There are actually other ways you can support the cause. You can help spread the word about the fundraising campaign on your social media platforms or even volunteer your time at one of their events. Any support, big or small, is valuable and greatly appreciated.\")),\n",
              "  ('Alice Smith', 'Environment', AgentAction(action_type='none', argument='')),\n",
              "  ('Environment',\n",
              "   'Bob Johnson',\n",
              "   Observation(last_turn='Bob Johnson said: \"That\\'s completely understandable, Alice. I appreciate your honesty. There are actually other ways you can support the cause. You can help spread the word about the fundraising campaign on your social media platforms or even volunteer your time at one of their events. Any support, big or small, is valuable and greatly appreciated.\"', turn_number=7, available_actions=['none'])),\n",
              "  ('Environment',\n",
              "   'Alice Smith',\n",
              "   Observation(last_turn='Bob Johnson said: \"That\\'s completely understandable, Alice. I appreciate your honesty. There are actually other ways you can support the cause. You can help spread the word about the fundraising campaign on your social media platforms or even volunteer your time at one of their events. Any support, big or small, is valuable and greatly appreciated.\"', turn_number=7, available_actions=['leave', 'none', 'action', 'speak', 'non-verbal communication'])),\n",
              "  ('Bob Johnson', 'Environment', AgentAction(action_type='none', argument='')),\n",
              "  ('Alice Smith', 'Environment', AgentAction(action_type='none', argument='')),\n",
              "  ('Environment',\n",
              "   'Bob Johnson',\n",
              "   Observation(last_turn='', turn_number=8, available_actions=['leave', 'none', 'action', 'speak', 'non-verbal communication'])),\n",
              "  ('Environment',\n",
              "   'Alice Smith',\n",
              "   Observation(last_turn='', turn_number=8, available_actions=['none']))]]"
            ]
          },
          "execution_count": 9,
          "metadata": {},
          "output_type": "execute_result"
        }
      ],
      "source": [
        "# @title Finally, run a server:\n",
        "\n",
        "from sotopia.samplers import UniformSampler\n",
        "from sotopia.server import run_async_server\n",
        "\n",
        "\n",
        "await run_async_server(\n",
        "    model_dict={\n",
        "        \"env\": \"gpt-4\",\n",
        "        \"agent1\": \"gpt-3.5-turbo\",\n",
        "        \"agent2\": \"gpt-3.5-turbo\",\n",
        "    },\n",
        "    sampler=UniformSampler(),\n",
        ")"
      ]
    },
    {
      "cell_type": "markdown",
      "metadata": {
        "id": "OJXZlHvJAGBS"
      },
      "source": [
        "### A note on what is running under the hood\n",
        "\n",
        "After you added the characters and scenarios to the database, the `run_async_server` samples a pair of characters and one scenario to run the simulation, and then evaluate the simulation. All of the sampling, interaction simulation, and evaluation are handled by Sotopia. You could easily tweak them through editing `run_async_server`, or changing the LLMs, or the sampler according to your own need."
      ]
    },
    {
      "cell_type": "markdown",
      "metadata": {
        "id": "9YNRGLsRfMvG"
      },
      "source": [
        "## Conclusion\n",
        "\n",
        "In this very short tutorial, I demonstrated the whole pipeline of setting up Redis server, installing sotopia, adding characters and social tasks, and simulating + evaluating the social interaction between two GPT-3.5 agents with GPT-4. This tutorial intends to serve as the first quick example for you. The only thing you have to do besides running all of the cells is add your own OpenAI key<a name=\"cite_ref-1\"></a>[<sup>[1]</sup>](#cite_note-1). You could also use other LLMs supported by LiteLLM even your own API endpoint. Let me know if you want me to explain more.\n",
        "\n",
        "<a name=\"cite_note-1\"></a> [1](#cite_ref-1): *sorry I cannot afford to share mine.*"
      ]
    }
  ],
  "metadata": {
    "accelerator": "GPU",
    "colab": {
      "gpuType": "T4",
      "provenance": []
    },
    "kernelspec": {
      "display_name": "Python 3",
      "name": "python3"
    },
    "language_info": {
      "name": "python",
      "version": "3.1.undefined"
    }
  },
  "nbformat": 4,
  "nbformat_minor": 0
}
